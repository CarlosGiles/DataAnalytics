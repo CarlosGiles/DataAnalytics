{
  "nbformat": 4,
  "nbformat_minor": 0,
  "metadata": {
    "colab": {
      "provenance": [],
      "authorship_tag": "ABX9TyMiAwBr/GCbJ0hPLN4CGmCY",
      "include_colab_link": true
    },
    "kernelspec": {
      "name": "python3",
      "display_name": "Python 3"
    },
    "language_info": {
      "name": "python"
    }
  },
  "cells": [
    {
      "cell_type": "markdown",
      "metadata": {
        "id": "view-in-github",
        "colab_type": "text"
      },
      "source": [
        "<a href=\"https://colab.research.google.com/github/CarlosGiles/DataAnalytics/blob/main/Dataframes_con_pandas.ipynb\" target=\"_parent\"><img src=\"https://colab.research.google.com/assets/colab-badge.svg\" alt=\"Open In Colab\"/></a>"
      ]
    },
    {
      "cell_type": "markdown",
      "source": [
        "# Dataframe con Pandas\n",
        "Un DataFrame es una estructura de datos bidimensional en la biblioteca Pandas de Python, diseñada para manejar y analizar datos de manera eficiente."
      ],
      "metadata": {
        "id": "eBx_FjQWGF6K"
      }
    },
    {
      "cell_type": "markdown",
      "source": [
        "## 1. Instalación de la biblioteca\n",
        "Antes que nada. debemos instalar pandas en nuestro entorno de desarrollo:"
      ],
      "metadata": {
        "id": "WaRlrv31GZBM"
      }
    },
    {
      "cell_type": "code",
      "execution_count": null,
      "metadata": {
        "colab": {
          "base_uri": "https://localhost:8080/"
        },
        "id": "9ZdiE2k6EwPs",
        "outputId": "9403ce83-c033-4895-a9a1-4d01f63ff70d"
      },
      "outputs": [
        {
          "output_type": "stream",
          "name": "stdout",
          "text": [
            "Requirement already satisfied: pandas in /usr/local/lib/python3.10/dist-packages (1.5.3)\n",
            "Requirement already satisfied: python-dateutil>=2.8.1 in /usr/local/lib/python3.10/dist-packages (from pandas) (2.8.2)\n",
            "Requirement already satisfied: pytz>=2020.1 in /usr/local/lib/python3.10/dist-packages (from pandas) (2023.3)\n",
            "Requirement already satisfied: numpy>=1.21.0 in /usr/local/lib/python3.10/dist-packages (from pandas) (1.23.5)\n",
            "Requirement already satisfied: six>=1.5 in /usr/local/lib/python3.10/dist-packages (from python-dateutil>=2.8.1->pandas) (1.16.0)\n"
          ]
        }
      ],
      "source": [
        "!pip install pandas"
      ]
    },
    {
      "cell_type": "markdown",
      "source": [
        "## 2. Importando la biblioteca\n",
        "Para utilizar las funciones de la biblioteca de **pandas** dentro de nuestro código, debemos importar al inicio de nuestro código:"
      ],
      "metadata": {
        "id": "zg5eZRXjGvrY"
      }
    },
    {
      "cell_type": "code",
      "source": [
        "import pandas as pd"
      ],
      "metadata": {
        "id": "9PS4XLDOHEvw"
      },
      "execution_count": null,
      "outputs": []
    },
    {
      "cell_type": "markdown",
      "source": [
        "## 3. Creación del DataFrme\n",
        "Para crear un DataFrame una **lista de diccionarios**, cada diccionario depresenta una fila de datos:"
      ],
      "metadata": {
        "id": "VCyx8jlBHK5j"
      }
    },
    {
      "cell_type": "code",
      "source": [
        "# Crear una lista de diccionarios que representen filas de datos\n",
        "leasing = [\n",
        "    {\"Equipo\":\"Dell L7420\",\"NS\":1,\"Usuario\":\"A\",\"Vigencia\":\"30-10-2023\"},\n",
        "    {\"Equipo\":\"Dell L7420\",\"NS\":2,\"Usuario\":\"B\",\"Vigencia\":\"30-10-2023\"},\n",
        "    {\"Equipo\":\"Lenovo L14\",\"NS\":3,\"Usuario\":\"C\",\"Vigencia\":\"25-10-2023\"}\n",
        "]"
      ],
      "metadata": {
        "id": "900FFAXCHsRm"
      },
      "execution_count": null,
      "outputs": []
    },
    {
      "cell_type": "markdown",
      "source": [
        "Una vez que tenemos la lista de diccionarios, definimos el dataframe **\"df\"** pasandole el método **\"pd.DataFrame()\"** (de la biblioteca pandas) y como argumento colocamos nuestra lista \"**leasing**\":"
      ],
      "metadata": {
        "id": "Qx4U6ZFLKu-0"
      }
    },
    {
      "cell_type": "code",
      "source": [
        "df=pd.DataFrame(leasing)\n",
        "# Imprimimos el df\n",
        "print(df)"
      ],
      "metadata": {
        "colab": {
          "base_uri": "https://localhost:8080/"
        },
        "id": "AL5UC4c2LTwt",
        "outputId": "e4d70c59-4822-421f-8d34-ce09a60e9c63"
      },
      "execution_count": null,
      "outputs": [
        {
          "output_type": "stream",
          "name": "stdout",
          "text": [
            "       Equipo  NS Usuario    Vigencia\n",
            "0  Dell L7420   1       A  30-10-2023\n",
            "1  Dell L7420   2       B  30-10-2023\n",
            "2  Lenovo L14   3       C  25-10-2023\n"
          ]
        }
      ]
    },
    {
      "cell_type": "markdown",
      "source": [
        "La mayoría de las ocaciones conviene convertir el atributo de Vigencia, a un dato tipo FECHA, ya que en realidad está declarado como un String. Accedemos a la columna de interés por medio del nombre del dataframe y entre corchetes el nombre de la columna. Enseguida, indicamos que por medio de la biblioteca **pd** aplicamos el método **\"to_datetime\"** a la columna, del dataframe:"
      ],
      "metadata": {
        "id": "7ot1WTn-Ls1h"
      }
    },
    {
      "cell_type": "code",
      "source": [
        "df[\"Vigencia\"] = pd.to_datetime(df[\"Vigencia\"])\n",
        "print(df)"
      ],
      "metadata": {
        "colab": {
          "base_uri": "https://localhost:8080/"
        },
        "id": "vJibuBoBL6j4",
        "outputId": "73b5600f-15ed-457d-ab84-ab96a705e8c5"
      },
      "execution_count": null,
      "outputs": [
        {
          "output_type": "stream",
          "name": "stdout",
          "text": [
            "       Equipo  NS Usuario   Vigencia\n",
            "0  Dell L7420   1       A 2023-10-30\n",
            "1  Dell L7420   2       B 2023-10-30\n",
            "2  Lenovo L14   3       C 2023-10-25\n"
          ]
        }
      ]
    },
    {
      "cell_type": "markdown",
      "source": [
        "### 3.1 Cear DataFrame directamente de un diccionario\n",
        "Podemos crear un dataframe utilizando un diccinario donde el **key** es el encabezado de la columna y el **value** el contenido o los valores de la columna, para ello, dicho **value** es una lista:"
      ],
      "metadata": {
        "id": "OXEuDsUpYtAI"
      }
    },
    {
      "cell_type": "code",
      "source": [
        "# Definiendo el diccionario para el DF\n",
        "leasing_dict = {\n",
        "    \"Equipo\":[\"Dell L7420\",\"Dell L7420\",\"Lenovo L14\"],\n",
        "    \"NS\":[1,2,3],\n",
        "    \"Usuario\":[\"A\",\"B\",\"C\"],\n",
        "    \"Vigencia\":[\"30-10-2023\",\"30-10-2023\",\"25-10-2023\"]\n",
        "}\n",
        "# Definiendo el DF\n",
        "df_dict = pd.DataFrame(leasing_dict)\n",
        "# Convertimos la columna Vigencia a tipo fecha\n",
        "df_dict[\"Vigencia\"] = pd.to_datetime(df[\"Vigencia\"])\n",
        "# Mostramos\n",
        "print(df_dict)"
      ],
      "metadata": {
        "colab": {
          "base_uri": "https://localhost:8080/"
        },
        "id": "ONkKNPEzZS3p",
        "outputId": "19702d09-809e-4215-8c2e-7260fa0a525f"
      },
      "execution_count": 21,
      "outputs": [
        {
          "output_type": "stream",
          "name": "stdout",
          "text": [
            "       Equipo  NS Usuario   Vigencia\n",
            "0  Dell L7420   1       A 2023-10-30\n",
            "1  Dell L7420   2       B 2023-10-30\n",
            "2  Lenovo L14   3       C 2023-10-25\n"
          ]
        }
      ]
    },
    {
      "cell_type": "markdown",
      "source": [
        "## 4. Mostrando un DataFrame\n",
        "Por medio de la función **\"head\"\"** de la biblioteca de Pandas, podemos mostrar un DataFrame, si no definimos un parámetro, se mostrará el DF completo:"
      ],
      "metadata": {
        "id": "rvoca2sDNRH_"
      }
    },
    {
      "cell_type": "code",
      "source": [
        "df.head()"
      ],
      "metadata": {
        "colab": {
          "base_uri": "https://localhost:8080/",
          "height": 200
        },
        "id": "Uynh-BHWNn1Z",
        "outputId": "79379b79-ff2c-46fe-d3ea-5b31e28935d4"
      },
      "execution_count": null,
      "outputs": [
        {
          "output_type": "execute_result",
          "data": {
            "text/plain": [
              "       Equipo  NS Usuario   Vigencia\n",
              "0  Dell L7420   1       A 2023-10-30\n",
              "1  Dell L7420   2       B 2023-10-30\n",
              "2  Lenovo L14   3       C 2023-10-25"
            ],
            "text/html": [
              "\n",
              "\n",
              "  <div id=\"df-5ec63ffd-9c26-4d79-beba-98c1eaadb37c\">\n",
              "    <div class=\"colab-df-container\">\n",
              "      <div>\n",
              "<style scoped>\n",
              "    .dataframe tbody tr th:only-of-type {\n",
              "        vertical-align: middle;\n",
              "    }\n",
              "\n",
              "    .dataframe tbody tr th {\n",
              "        vertical-align: top;\n",
              "    }\n",
              "\n",
              "    .dataframe thead th {\n",
              "        text-align: right;\n",
              "    }\n",
              "</style>\n",
              "<table border=\"1\" class=\"dataframe\">\n",
              "  <thead>\n",
              "    <tr style=\"text-align: right;\">\n",
              "      <th></th>\n",
              "      <th>Equipo</th>\n",
              "      <th>NS</th>\n",
              "      <th>Usuario</th>\n",
              "      <th>Vigencia</th>\n",
              "    </tr>\n",
              "  </thead>\n",
              "  <tbody>\n",
              "    <tr>\n",
              "      <th>0</th>\n",
              "      <td>Dell L7420</td>\n",
              "      <td>1</td>\n",
              "      <td>A</td>\n",
              "      <td>2023-10-30</td>\n",
              "    </tr>\n",
              "    <tr>\n",
              "      <th>1</th>\n",
              "      <td>Dell L7420</td>\n",
              "      <td>2</td>\n",
              "      <td>B</td>\n",
              "      <td>2023-10-30</td>\n",
              "    </tr>\n",
              "    <tr>\n",
              "      <th>2</th>\n",
              "      <td>Lenovo L14</td>\n",
              "      <td>3</td>\n",
              "      <td>C</td>\n",
              "      <td>2023-10-25</td>\n",
              "    </tr>\n",
              "  </tbody>\n",
              "</table>\n",
              "</div>\n",
              "      <button class=\"colab-df-convert\" onclick=\"convertToInteractive('df-5ec63ffd-9c26-4d79-beba-98c1eaadb37c')\"\n",
              "              title=\"Convert this dataframe to an interactive table.\"\n",
              "              style=\"display:none;\">\n",
              "\n",
              "  <svg xmlns=\"http://www.w3.org/2000/svg\" height=\"24px\"viewBox=\"0 0 24 24\"\n",
              "       width=\"24px\">\n",
              "    <path d=\"M0 0h24v24H0V0z\" fill=\"none\"/>\n",
              "    <path d=\"M18.56 5.44l.94 2.06.94-2.06 2.06-.94-2.06-.94-.94-2.06-.94 2.06-2.06.94zm-11 1L8.5 8.5l.94-2.06 2.06-.94-2.06-.94L8.5 2.5l-.94 2.06-2.06.94zm10 10l.94 2.06.94-2.06 2.06-.94-2.06-.94-.94-2.06-.94 2.06-2.06.94z\"/><path d=\"M17.41 7.96l-1.37-1.37c-.4-.4-.92-.59-1.43-.59-.52 0-1.04.2-1.43.59L10.3 9.45l-7.72 7.72c-.78.78-.78 2.05 0 2.83L4 21.41c.39.39.9.59 1.41.59.51 0 1.02-.2 1.41-.59l7.78-7.78 2.81-2.81c.8-.78.8-2.07 0-2.86zM5.41 20L4 18.59l7.72-7.72 1.47 1.35L5.41 20z\"/>\n",
              "  </svg>\n",
              "      </button>\n",
              "\n",
              "\n",
              "\n",
              "    <div id=\"df-a3310f8b-114d-4a49-823d-66503b11ea3b\">\n",
              "      <button class=\"colab-df-quickchart\" onclick=\"quickchart('df-a3310f8b-114d-4a49-823d-66503b11ea3b')\"\n",
              "              title=\"Suggest charts.\"\n",
              "              style=\"display:none;\">\n",
              "\n",
              "<svg xmlns=\"http://www.w3.org/2000/svg\" height=\"24px\"viewBox=\"0 0 24 24\"\n",
              "     width=\"24px\">\n",
              "    <g>\n",
              "        <path d=\"M19 3H5c-1.1 0-2 .9-2 2v14c0 1.1.9 2 2 2h14c1.1 0 2-.9 2-2V5c0-1.1-.9-2-2-2zM9 17H7v-7h2v7zm4 0h-2V7h2v10zm4 0h-2v-4h2v4z\"/>\n",
              "    </g>\n",
              "</svg>\n",
              "      </button>\n",
              "    </div>\n",
              "\n",
              "<style>\n",
              "  .colab-df-quickchart {\n",
              "    background-color: #E8F0FE;\n",
              "    border: none;\n",
              "    border-radius: 50%;\n",
              "    cursor: pointer;\n",
              "    display: none;\n",
              "    fill: #1967D2;\n",
              "    height: 32px;\n",
              "    padding: 0 0 0 0;\n",
              "    width: 32px;\n",
              "  }\n",
              "\n",
              "  .colab-df-quickchart:hover {\n",
              "    background-color: #E2EBFA;\n",
              "    box-shadow: 0px 1px 2px rgba(60, 64, 67, 0.3), 0px 1px 3px 1px rgba(60, 64, 67, 0.15);\n",
              "    fill: #174EA6;\n",
              "  }\n",
              "\n",
              "  [theme=dark] .colab-df-quickchart {\n",
              "    background-color: #3B4455;\n",
              "    fill: #D2E3FC;\n",
              "  }\n",
              "\n",
              "  [theme=dark] .colab-df-quickchart:hover {\n",
              "    background-color: #434B5C;\n",
              "    box-shadow: 0px 1px 3px 1px rgba(0, 0, 0, 0.15);\n",
              "    filter: drop-shadow(0px 1px 2px rgba(0, 0, 0, 0.3));\n",
              "    fill: #FFFFFF;\n",
              "  }\n",
              "</style>\n",
              "\n",
              "    <script>\n",
              "      async function quickchart(key) {\n",
              "        const containerElement = document.querySelector('#' + key);\n",
              "        const charts = await google.colab.kernel.invokeFunction(\n",
              "            'suggestCharts', [key], {});\n",
              "      }\n",
              "    </script>\n",
              "\n",
              "      <script>\n",
              "\n",
              "function displayQuickchartButton(domScope) {\n",
              "  let quickchartButtonEl =\n",
              "    domScope.querySelector('#df-a3310f8b-114d-4a49-823d-66503b11ea3b button.colab-df-quickchart');\n",
              "  quickchartButtonEl.style.display =\n",
              "    google.colab.kernel.accessAllowed ? 'block' : 'none';\n",
              "}\n",
              "\n",
              "        displayQuickchartButton(document);\n",
              "      </script>\n",
              "      <style>\n",
              "    .colab-df-container {\n",
              "      display:flex;\n",
              "      flex-wrap:wrap;\n",
              "      gap: 12px;\n",
              "    }\n",
              "\n",
              "    .colab-df-convert {\n",
              "      background-color: #E8F0FE;\n",
              "      border: none;\n",
              "      border-radius: 50%;\n",
              "      cursor: pointer;\n",
              "      display: none;\n",
              "      fill: #1967D2;\n",
              "      height: 32px;\n",
              "      padding: 0 0 0 0;\n",
              "      width: 32px;\n",
              "    }\n",
              "\n",
              "    .colab-df-convert:hover {\n",
              "      background-color: #E2EBFA;\n",
              "      box-shadow: 0px 1px 2px rgba(60, 64, 67, 0.3), 0px 1px 3px 1px rgba(60, 64, 67, 0.15);\n",
              "      fill: #174EA6;\n",
              "    }\n",
              "\n",
              "    [theme=dark] .colab-df-convert {\n",
              "      background-color: #3B4455;\n",
              "      fill: #D2E3FC;\n",
              "    }\n",
              "\n",
              "    [theme=dark] .colab-df-convert:hover {\n",
              "      background-color: #434B5C;\n",
              "      box-shadow: 0px 1px 3px 1px rgba(0, 0, 0, 0.15);\n",
              "      filter: drop-shadow(0px 1px 2px rgba(0, 0, 0, 0.3));\n",
              "      fill: #FFFFFF;\n",
              "    }\n",
              "  </style>\n",
              "\n",
              "      <script>\n",
              "        const buttonEl =\n",
              "          document.querySelector('#df-5ec63ffd-9c26-4d79-beba-98c1eaadb37c button.colab-df-convert');\n",
              "        buttonEl.style.display =\n",
              "          google.colab.kernel.accessAllowed ? 'block' : 'none';\n",
              "\n",
              "        async function convertToInteractive(key) {\n",
              "          const element = document.querySelector('#df-5ec63ffd-9c26-4d79-beba-98c1eaadb37c');\n",
              "          const dataTable =\n",
              "            await google.colab.kernel.invokeFunction('convertToInteractive',\n",
              "                                                     [key], {});\n",
              "          if (!dataTable) return;\n",
              "\n",
              "          const docLinkHtml = 'Like what you see? Visit the ' +\n",
              "            '<a target=\"_blank\" href=https://colab.research.google.com/notebooks/data_table.ipynb>data table notebook</a>'\n",
              "            + ' to learn more about interactive tables.';\n",
              "          element.innerHTML = '';\n",
              "          dataTable['output_type'] = 'display_data';\n",
              "          await google.colab.output.renderOutput(dataTable, element);\n",
              "          const docLink = document.createElement('div');\n",
              "          docLink.innerHTML = docLinkHtml;\n",
              "          element.appendChild(docLink);\n",
              "        }\n",
              "      </script>\n",
              "    </div>\n",
              "  </div>\n"
            ]
          },
          "metadata": {},
          "execution_count": 8
        }
      ]
    },
    {
      "cell_type": "markdown",
      "source": [
        "## 5. Acceder a los datos de un DataFrame"
      ],
      "metadata": {
        "id": "iWm2uTePN9uL"
      }
    },
    {
      "cell_type": "code",
      "source": [
        "# Acceder a una columna específica\n",
        "equipos = df[\"Equipo\"]\n",
        "vigencias = df[\"Vigencia\"]\n",
        "\n",
        "# Acceder a una fila específica por su índice en el DF\n",
        "fila_usuario_B = df.loc[1]\n",
        "\n",
        "# Acceder a un valor específico por fila (index) y columna\n",
        "ns_usuario_C = df.loc[2, \"NS\"]\n",
        "\n",
        "print(equipos)\n",
        "print(vigencias)\n",
        "print(fila_usuario_B)\n",
        "print(ns_usuario_C)"
      ],
      "metadata": {
        "colab": {
          "base_uri": "https://localhost:8080/"
        },
        "id": "-JhnpbLiSJhm",
        "outputId": "16d2f82a-4eb7-4eb1-cf77-3a643dafd737"
      },
      "execution_count": null,
      "outputs": [
        {
          "output_type": "stream",
          "name": "stdout",
          "text": [
            "0    Dell L7420\n",
            "1    Dell L7420\n",
            "2    Lenovo L14\n",
            "Name: Equipo, dtype: object\n",
            "0   2023-10-30\n",
            "1   2023-10-30\n",
            "2   2023-10-25\n",
            "Name: Vigencia, dtype: datetime64[ns]\n",
            "Equipo               Dell L7420\n",
            "NS                            2\n",
            "Usuario                       B\n",
            "Vigencia    2023-10-30 00:00:00\n",
            "Name: 1, dtype: object\n",
            "3\n"
          ]
        }
      ]
    },
    {
      "cell_type": "markdown",
      "source": [
        "## 6. Operaciones en los datos de un DataFrame\n",
        "Podemos hacer operaciones en un DF, por ejemplo, agregar o quitar columnas, filas, filtrar datos, entre otros.\n"
      ],
      "metadata": {
        "id": "AMSVKCpfUKb7"
      }
    },
    {
      "cell_type": "markdown",
      "source": [
        "### 6.1 Agregar columnas\n",
        "Indicamos el DataFrame con el nombre de la nueva columna y asignamos los valores:"
      ],
      "metadata": {
        "id": "kKuzMDUUUsaw"
      }
    },
    {
      "cell_type": "code",
      "source": [
        "df[\"Host\"]=[\"A1\",\"B2\",\"C3\"]\n",
        "df[\"Uso/meses\"]=[6,10,18]\n",
        "df.head()"
      ],
      "metadata": {
        "colab": {
          "base_uri": "https://localhost:8080/",
          "height": 143
        },
        "id": "BY1cVDtpUw4r",
        "outputId": "0f2ae456-8b83-43f5-ded0-34abc79b126a"
      },
      "execution_count": 12,
      "outputs": [
        {
          "output_type": "execute_result",
          "data": {
            "text/plain": [
              "       Equipo  NS Usuario   Vigencia Host  Uso/meses\n",
              "0  Dell L7420   1       A 2023-10-30   A1          6\n",
              "1  Dell L7420   2       B 2023-10-30   B2         10\n",
              "2  Lenovo L14   3       C 2023-10-25   C3         18"
            ],
            "text/html": [
              "\n",
              "\n",
              "  <div id=\"df-cb9c3fa7-692f-40b6-b8b2-b821b0da0340\">\n",
              "    <div class=\"colab-df-container\">\n",
              "      <div>\n",
              "<style scoped>\n",
              "    .dataframe tbody tr th:only-of-type {\n",
              "        vertical-align: middle;\n",
              "    }\n",
              "\n",
              "    .dataframe tbody tr th {\n",
              "        vertical-align: top;\n",
              "    }\n",
              "\n",
              "    .dataframe thead th {\n",
              "        text-align: right;\n",
              "    }\n",
              "</style>\n",
              "<table border=\"1\" class=\"dataframe\">\n",
              "  <thead>\n",
              "    <tr style=\"text-align: right;\">\n",
              "      <th></th>\n",
              "      <th>Equipo</th>\n",
              "      <th>NS</th>\n",
              "      <th>Usuario</th>\n",
              "      <th>Vigencia</th>\n",
              "      <th>Host</th>\n",
              "      <th>Uso/meses</th>\n",
              "    </tr>\n",
              "  </thead>\n",
              "  <tbody>\n",
              "    <tr>\n",
              "      <th>0</th>\n",
              "      <td>Dell L7420</td>\n",
              "      <td>1</td>\n",
              "      <td>A</td>\n",
              "      <td>2023-10-30</td>\n",
              "      <td>A1</td>\n",
              "      <td>6</td>\n",
              "    </tr>\n",
              "    <tr>\n",
              "      <th>1</th>\n",
              "      <td>Dell L7420</td>\n",
              "      <td>2</td>\n",
              "      <td>B</td>\n",
              "      <td>2023-10-30</td>\n",
              "      <td>B2</td>\n",
              "      <td>10</td>\n",
              "    </tr>\n",
              "    <tr>\n",
              "      <th>2</th>\n",
              "      <td>Lenovo L14</td>\n",
              "      <td>3</td>\n",
              "      <td>C</td>\n",
              "      <td>2023-10-25</td>\n",
              "      <td>C3</td>\n",
              "      <td>18</td>\n",
              "    </tr>\n",
              "  </tbody>\n",
              "</table>\n",
              "</div>\n",
              "      <button class=\"colab-df-convert\" onclick=\"convertToInteractive('df-cb9c3fa7-692f-40b6-b8b2-b821b0da0340')\"\n",
              "              title=\"Convert this dataframe to an interactive table.\"\n",
              "              style=\"display:none;\">\n",
              "\n",
              "  <svg xmlns=\"http://www.w3.org/2000/svg\" height=\"24px\"viewBox=\"0 0 24 24\"\n",
              "       width=\"24px\">\n",
              "    <path d=\"M0 0h24v24H0V0z\" fill=\"none\"/>\n",
              "    <path d=\"M18.56 5.44l.94 2.06.94-2.06 2.06-.94-2.06-.94-.94-2.06-.94 2.06-2.06.94zm-11 1L8.5 8.5l.94-2.06 2.06-.94-2.06-.94L8.5 2.5l-.94 2.06-2.06.94zm10 10l.94 2.06.94-2.06 2.06-.94-2.06-.94-.94-2.06-.94 2.06-2.06.94z\"/><path d=\"M17.41 7.96l-1.37-1.37c-.4-.4-.92-.59-1.43-.59-.52 0-1.04.2-1.43.59L10.3 9.45l-7.72 7.72c-.78.78-.78 2.05 0 2.83L4 21.41c.39.39.9.59 1.41.59.51 0 1.02-.2 1.41-.59l7.78-7.78 2.81-2.81c.8-.78.8-2.07 0-2.86zM5.41 20L4 18.59l7.72-7.72 1.47 1.35L5.41 20z\"/>\n",
              "  </svg>\n",
              "      </button>\n",
              "\n",
              "\n",
              "\n",
              "    <div id=\"df-475ce44c-91fa-4649-a85a-9c046391fea5\">\n",
              "      <button class=\"colab-df-quickchart\" onclick=\"quickchart('df-475ce44c-91fa-4649-a85a-9c046391fea5')\"\n",
              "              title=\"Suggest charts.\"\n",
              "              style=\"display:none;\">\n",
              "\n",
              "<svg xmlns=\"http://www.w3.org/2000/svg\" height=\"24px\"viewBox=\"0 0 24 24\"\n",
              "     width=\"24px\">\n",
              "    <g>\n",
              "        <path d=\"M19 3H5c-1.1 0-2 .9-2 2v14c0 1.1.9 2 2 2h14c1.1 0 2-.9 2-2V5c0-1.1-.9-2-2-2zM9 17H7v-7h2v7zm4 0h-2V7h2v10zm4 0h-2v-4h2v4z\"/>\n",
              "    </g>\n",
              "</svg>\n",
              "      </button>\n",
              "    </div>\n",
              "\n",
              "<style>\n",
              "  .colab-df-quickchart {\n",
              "    background-color: #E8F0FE;\n",
              "    border: none;\n",
              "    border-radius: 50%;\n",
              "    cursor: pointer;\n",
              "    display: none;\n",
              "    fill: #1967D2;\n",
              "    height: 32px;\n",
              "    padding: 0 0 0 0;\n",
              "    width: 32px;\n",
              "  }\n",
              "\n",
              "  .colab-df-quickchart:hover {\n",
              "    background-color: #E2EBFA;\n",
              "    box-shadow: 0px 1px 2px rgba(60, 64, 67, 0.3), 0px 1px 3px 1px rgba(60, 64, 67, 0.15);\n",
              "    fill: #174EA6;\n",
              "  }\n",
              "\n",
              "  [theme=dark] .colab-df-quickchart {\n",
              "    background-color: #3B4455;\n",
              "    fill: #D2E3FC;\n",
              "  }\n",
              "\n",
              "  [theme=dark] .colab-df-quickchart:hover {\n",
              "    background-color: #434B5C;\n",
              "    box-shadow: 0px 1px 3px 1px rgba(0, 0, 0, 0.15);\n",
              "    filter: drop-shadow(0px 1px 2px rgba(0, 0, 0, 0.3));\n",
              "    fill: #FFFFFF;\n",
              "  }\n",
              "</style>\n",
              "\n",
              "    <script>\n",
              "      async function quickchart(key) {\n",
              "        const containerElement = document.querySelector('#' + key);\n",
              "        const charts = await google.colab.kernel.invokeFunction(\n",
              "            'suggestCharts', [key], {});\n",
              "      }\n",
              "    </script>\n",
              "\n",
              "      <script>\n",
              "\n",
              "function displayQuickchartButton(domScope) {\n",
              "  let quickchartButtonEl =\n",
              "    domScope.querySelector('#df-475ce44c-91fa-4649-a85a-9c046391fea5 button.colab-df-quickchart');\n",
              "  quickchartButtonEl.style.display =\n",
              "    google.colab.kernel.accessAllowed ? 'block' : 'none';\n",
              "}\n",
              "\n",
              "        displayQuickchartButton(document);\n",
              "      </script>\n",
              "      <style>\n",
              "    .colab-df-container {\n",
              "      display:flex;\n",
              "      flex-wrap:wrap;\n",
              "      gap: 12px;\n",
              "    }\n",
              "\n",
              "    .colab-df-convert {\n",
              "      background-color: #E8F0FE;\n",
              "      border: none;\n",
              "      border-radius: 50%;\n",
              "      cursor: pointer;\n",
              "      display: none;\n",
              "      fill: #1967D2;\n",
              "      height: 32px;\n",
              "      padding: 0 0 0 0;\n",
              "      width: 32px;\n",
              "    }\n",
              "\n",
              "    .colab-df-convert:hover {\n",
              "      background-color: #E2EBFA;\n",
              "      box-shadow: 0px 1px 2px rgba(60, 64, 67, 0.3), 0px 1px 3px 1px rgba(60, 64, 67, 0.15);\n",
              "      fill: #174EA6;\n",
              "    }\n",
              "\n",
              "    [theme=dark] .colab-df-convert {\n",
              "      background-color: #3B4455;\n",
              "      fill: #D2E3FC;\n",
              "    }\n",
              "\n",
              "    [theme=dark] .colab-df-convert:hover {\n",
              "      background-color: #434B5C;\n",
              "      box-shadow: 0px 1px 3px 1px rgba(0, 0, 0, 0.15);\n",
              "      filter: drop-shadow(0px 1px 2px rgba(0, 0, 0, 0.3));\n",
              "      fill: #FFFFFF;\n",
              "    }\n",
              "  </style>\n",
              "\n",
              "      <script>\n",
              "        const buttonEl =\n",
              "          document.querySelector('#df-cb9c3fa7-692f-40b6-b8b2-b821b0da0340 button.colab-df-convert');\n",
              "        buttonEl.style.display =\n",
              "          google.colab.kernel.accessAllowed ? 'block' : 'none';\n",
              "\n",
              "        async function convertToInteractive(key) {\n",
              "          const element = document.querySelector('#df-cb9c3fa7-692f-40b6-b8b2-b821b0da0340');\n",
              "          const dataTable =\n",
              "            await google.colab.kernel.invokeFunction('convertToInteractive',\n",
              "                                                     [key], {});\n",
              "          if (!dataTable) return;\n",
              "\n",
              "          const docLinkHtml = 'Like what you see? Visit the ' +\n",
              "            '<a target=\"_blank\" href=https://colab.research.google.com/notebooks/data_table.ipynb>data table notebook</a>'\n",
              "            + ' to learn more about interactive tables.';\n",
              "          element.innerHTML = '';\n",
              "          dataTable['output_type'] = 'display_data';\n",
              "          await google.colab.output.renderOutput(dataTable, element);\n",
              "          const docLink = document.createElement('div');\n",
              "          docLink.innerHTML = docLinkHtml;\n",
              "          element.appendChild(docLink);\n",
              "        }\n",
              "      </script>\n",
              "    </div>\n",
              "  </div>\n"
            ]
          },
          "metadata": {},
          "execution_count": 12
        }
      ]
    },
    {
      "cell_type": "markdown",
      "source": [
        "### 6.2 Filtrando datos\n",
        "Podemos filtrar datos por filas basandonos en una condición:"
      ],
      "metadata": {
        "id": "zK85mo34WG17"
      }
    },
    {
      "cell_type": "code",
      "source": [
        "# Variable que selecciona las filas donde el valor de la columna Uso/meses es mayor a 15\n",
        "contrato_por_cumplir = df[df[\"Uso/meses\"]>15]\n",
        "print(contrato_por_cumplir)"
      ],
      "metadata": {
        "colab": {
          "base_uri": "https://localhost:8080/"
        },
        "id": "h-QWJ4zPWWBA",
        "outputId": "691bded7-5c27-47d5-bfc3-fc9409face11"
      },
      "execution_count": 15,
      "outputs": [
        {
          "output_type": "stream",
          "name": "stdout",
          "text": [
            "       Equipo  NS Usuario   Vigencia Host  Uso/meses\n",
            "2  Lenovo L14   3       C 2023-10-25   C3         18\n"
          ]
        }
      ]
    },
    {
      "cell_type": "markdown",
      "source": [
        "### 6.3 Calculos estadisticos\n",
        "Calculamos el promedio de uso de los equipos:"
      ],
      "metadata": {
        "id": "gdlXHh6kYCPo"
      }
    },
    {
      "cell_type": "code",
      "source": [
        "promedio_uso = df[\"Uso/meses\"].mean()\n",
        "print(promedio_uso)"
      ],
      "metadata": {
        "colab": {
          "base_uri": "https://localhost:8080/"
        },
        "id": "Xhudud_cYREe",
        "outputId": "44cc493c-93b4-4e8f-8d37-5931311ef2f3"
      },
      "execution_count": 16,
      "outputs": [
        {
          "output_type": "stream",
          "name": "stdout",
          "text": [
            "11.333333333333334\n"
          ]
        }
      ]
    },
    {
      "cell_type": "markdown",
      "source": [
        "### Filtrar por fechas en datetime\n",
        "Podemos filtrar filas para obtener las que están después de una fecha específica"
      ],
      "metadata": {
        "id": "l2uPqw1UbloP"
      }
    },
    {
      "cell_type": "code",
      "source": [
        "# Creamos un filtro indicando que el parámetro será la columna Vigencia donde el dato sea mayor a una fecha especificada\n",
        "fechas_cercanas = df_dict[\"Vigencia\"] > \"2023-10-25\"\n",
        "# En una variable asignamos el dataframe y como parámetro el filtro\n",
        "equipos_por_vencer = df_dict[fechas_cercanas]\n",
        "\n",
        "print(equipos_por_vencer)"
      ],
      "metadata": {
        "colab": {
          "base_uri": "https://localhost:8080/"
        },
        "id": "scDss4iTb5pi",
        "outputId": "6f3dc5ea-df83-49b4-b7c4-8e7b7b80fc9a"
      },
      "execution_count": 22,
      "outputs": [
        {
          "output_type": "stream",
          "name": "stdout",
          "text": [
            "       Equipo  NS Usuario   Vigencia\n",
            "0  Dell L7420   1       A 2023-10-30\n",
            "1  Dell L7420   2       B 2023-10-30\n"
          ]
        }
      ]
    }
  ]
}